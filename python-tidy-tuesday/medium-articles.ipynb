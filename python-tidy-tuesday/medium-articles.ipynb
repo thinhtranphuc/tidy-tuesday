{
 "cells": [
  {
   "cell_type": "markdown",
   "metadata": {},
   "source": [
    "# Loading packages "
   ]
  },
  {
   "cell_type": "code",
   "execution_count": 1,
   "metadata": {},
   "outputs": [],
   "source": [
    "import pandas as pd\n",
    "import numpy as np\n",
    "import matplotlib.pyplot as plt \n",
    "import nltk\n",
    "plt.style.use(\"seaborn-whitegrid\")"
   ]
  },
  {
   "cell_type": "markdown",
   "metadata": {},
   "source": [
    "# Loading data "
   ]
  },
  {
   "cell_type": "code",
   "execution_count": 2,
   "metadata": {},
   "outputs": [],
   "source": [
    "medium_datasci = pd.read_csv(\"https://raw.githubusercontent.com/rfordatascience/tidytuesday/master/data/2018/2018-12-04/medium_datasci.csv\")\\\n",
    ".drop('x1', axis=1) # remove verticle, column x1\n",
    "\n",
    "medium_datasci['title'] = medium_datasci['title'].str.lower()"
   ]
  },
  {
   "cell_type": "markdown",
   "metadata": {},
   "source": [
    "# Cleaning & EDA"
   ]
  },
  {
   "cell_type": "code",
   "execution_count": 3,
   "metadata": {},
   "outputs": [
    {
     "data": {
      "text/html": [
       "<div>\n",
       "<style scoped>\n",
       "    .dataframe tbody tr th:only-of-type {\n",
       "        vertical-align: middle;\n",
       "    }\n",
       "\n",
       "    .dataframe tbody tr th {\n",
       "        vertical-align: top;\n",
       "    }\n",
       "\n",
       "    .dataframe thead th {\n",
       "        text-align: right;\n",
       "    }\n",
       "</style>\n",
       "<table border=\"1\" class=\"dataframe\">\n",
       "  <thead>\n",
       "    <tr style=\"text-align: right;\">\n",
       "      <th></th>\n",
       "      <th>title</th>\n",
       "      <th>subtitle</th>\n",
       "      <th>image</th>\n",
       "      <th>author</th>\n",
       "      <th>publication</th>\n",
       "      <th>year</th>\n",
       "      <th>month</th>\n",
       "      <th>day</th>\n",
       "      <th>reading_time</th>\n",
       "      <th>claps</th>\n",
       "      <th>url</th>\n",
       "      <th>author_url</th>\n",
       "      <th>tag_ai</th>\n",
       "      <th>tag_artificial_intelligence</th>\n",
       "      <th>tag_big_data</th>\n",
       "      <th>tag_data</th>\n",
       "      <th>tag_data_science</th>\n",
       "      <th>tag_data_visualization</th>\n",
       "      <th>tag_deep_learning</th>\n",
       "      <th>tag_machine_learning</th>\n",
       "    </tr>\n",
       "  </thead>\n",
       "  <tbody>\n",
       "    <tr>\n",
       "      <th>0</th>\n",
       "      <td>online animation: mixamo vs norah ai</td>\n",
       "      <td>Online animations tools provide game designers...</td>\n",
       "      <td>1</td>\n",
       "      <td>Emma Laurent</td>\n",
       "      <td>NaN</td>\n",
       "      <td>2017</td>\n",
       "      <td>8</td>\n",
       "      <td>1</td>\n",
       "      <td>5</td>\n",
       "      <td>12.0</td>\n",
       "      <td>https://medium.com/@laurentemma/online-animati...</td>\n",
       "      <td>https://medium.com/@laurentemma</td>\n",
       "      <td>1</td>\n",
       "      <td>0</td>\n",
       "      <td>0</td>\n",
       "      <td>0</td>\n",
       "      <td>0</td>\n",
       "      <td>0</td>\n",
       "      <td>0</td>\n",
       "      <td>0</td>\n",
       "    </tr>\n",
       "    <tr>\n",
       "      <th>1</th>\n",
       "      <td>a.i. ?</td>\n",
       "      <td>NaN</td>\n",
       "      <td>0</td>\n",
       "      <td>Sanparith Marukatat</td>\n",
       "      <td>NaN</td>\n",
       "      <td>2017</td>\n",
       "      <td>8</td>\n",
       "      <td>1</td>\n",
       "      <td>2</td>\n",
       "      <td>11.0</td>\n",
       "      <td>https://medium.com/@sanparithmarukatat/a-i-%E0...</td>\n",
       "      <td>https://medium.com/@sanparithmarukatat</td>\n",
       "      <td>1</td>\n",
       "      <td>0</td>\n",
       "      <td>0</td>\n",
       "      <td>0</td>\n",
       "      <td>0</td>\n",
       "      <td>0</td>\n",
       "      <td>0</td>\n",
       "      <td>0</td>\n",
       "    </tr>\n",
       "    <tr>\n",
       "      <th>2</th>\n",
       "      <td>futures of ai, friendly ai?</td>\n",
       "      <td>From Physics of the Future: How Science Will S...</td>\n",
       "      <td>1</td>\n",
       "      <td>Z</td>\n",
       "      <td>NaN</td>\n",
       "      <td>2017</td>\n",
       "      <td>8</td>\n",
       "      <td>1</td>\n",
       "      <td>3</td>\n",
       "      <td>1.0</td>\n",
       "      <td>https://medium.com/@otherside914/futures-of-ai...</td>\n",
       "      <td>https://medium.com/@otherside914</td>\n",
       "      <td>1</td>\n",
       "      <td>0</td>\n",
       "      <td>0</td>\n",
       "      <td>0</td>\n",
       "      <td>0</td>\n",
       "      <td>0</td>\n",
       "      <td>0</td>\n",
       "      <td>0</td>\n",
       "    </tr>\n",
       "    <tr>\n",
       "      <th>3</th>\n",
       "      <td>the value generated through ai led mindfulness</td>\n",
       "      <td>A true product co-created by the Millennials</td>\n",
       "      <td>1</td>\n",
       "      <td>Emiko Sawaguchi</td>\n",
       "      <td>MILLENNIALSTIMES</td>\n",
       "      <td>2017</td>\n",
       "      <td>8</td>\n",
       "      <td>1</td>\n",
       "      <td>5</td>\n",
       "      <td>4.0</td>\n",
       "      <td>https://millennials-times.com/creativeflower-e...</td>\n",
       "      <td>https://millennials-times.com/@emikosawaguchi</td>\n",
       "      <td>1</td>\n",
       "      <td>0</td>\n",
       "      <td>0</td>\n",
       "      <td>0</td>\n",
       "      <td>0</td>\n",
       "      <td>0</td>\n",
       "      <td>0</td>\n",
       "      <td>0</td>\n",
       "    </tr>\n",
       "    <tr>\n",
       "      <th>4</th>\n",
       "      <td>os melhores links de julhocmeras vintage, goog...</td>\n",
       "      <td>mas pera a?</td>\n",
       "      <td>1</td>\n",
       "      <td>Giovani Ferreira</td>\n",
       "      <td>NEW ORDER</td>\n",
       "      <td>2017</td>\n",
       "      <td>8</td>\n",
       "      <td>1</td>\n",
       "      <td>3</td>\n",
       "      <td>56.0</td>\n",
       "      <td>https://medium.com/neworder/os-melhores-links-...</td>\n",
       "      <td>https://medium.com/@gferreira</td>\n",
       "      <td>1</td>\n",
       "      <td>0</td>\n",
       "      <td>0</td>\n",
       "      <td>0</td>\n",
       "      <td>0</td>\n",
       "      <td>0</td>\n",
       "      <td>0</td>\n",
       "      <td>0</td>\n",
       "    </tr>\n",
       "  </tbody>\n",
       "</table>\n",
       "</div>"
      ],
      "text/plain": [
       "                                               title  \\\n",
       "0               online animation: mixamo vs norah ai   \n",
       "1                                             a.i. ?   \n",
       "2                        futures of ai, friendly ai?   \n",
       "3     the value generated through ai led mindfulness   \n",
       "4  os melhores links de julhocmeras vintage, goog...   \n",
       "\n",
       "                                            subtitle  image  \\\n",
       "0  Online animations tools provide game designers...      1   \n",
       "1                                                NaN      0   \n",
       "2  From Physics of the Future: How Science Will S...      1   \n",
       "3       A true product co-created by the Millennials      1   \n",
       "4                                        mas pera a?      1   \n",
       "\n",
       "                author       publication  year  month  day  reading_time  \\\n",
       "0         Emma Laurent               NaN  2017      8    1             5   \n",
       "1  Sanparith Marukatat               NaN  2017      8    1             2   \n",
       "2                    Z               NaN  2017      8    1             3   \n",
       "3      Emiko Sawaguchi  MILLENNIALSTIMES  2017      8    1             5   \n",
       "4     Giovani Ferreira         NEW ORDER  2017      8    1             3   \n",
       "\n",
       "   claps                                                url  \\\n",
       "0   12.0  https://medium.com/@laurentemma/online-animati...   \n",
       "1   11.0  https://medium.com/@sanparithmarukatat/a-i-%E0...   \n",
       "2    1.0  https://medium.com/@otherside914/futures-of-ai...   \n",
       "3    4.0  https://millennials-times.com/creativeflower-e...   \n",
       "4   56.0  https://medium.com/neworder/os-melhores-links-...   \n",
       "\n",
       "                                      author_url  tag_ai  \\\n",
       "0                https://medium.com/@laurentemma       1   \n",
       "1         https://medium.com/@sanparithmarukatat       1   \n",
       "2               https://medium.com/@otherside914       1   \n",
       "3  https://millennials-times.com/@emikosawaguchi       1   \n",
       "4                  https://medium.com/@gferreira       1   \n",
       "\n",
       "   tag_artificial_intelligence  tag_big_data  tag_data  tag_data_science  \\\n",
       "0                            0             0         0                 0   \n",
       "1                            0             0         0                 0   \n",
       "2                            0             0         0                 0   \n",
       "3                            0             0         0                 0   \n",
       "4                            0             0         0                 0   \n",
       "\n",
       "   tag_data_visualization  tag_deep_learning  tag_machine_learning  \n",
       "0                       0                  0                     0  \n",
       "1                       0                  0                     0  \n",
       "2                       0                  0                     0  \n",
       "3                       0                  0                     0  \n",
       "4                       0                  0                     0  "
      ]
     },
     "execution_count": 3,
     "metadata": {},
     "output_type": "execute_result"
    }
   ],
   "source": [
    "medium_datasci.head()"
   ]
  },
  {
   "cell_type": "markdown",
   "metadata": {},
   "source": [
    "Let's try to get a feel with this data. Start with the distribution of the features in interest"
   ]
  },
  {
   "cell_type": "markdown",
   "metadata": {},
   "source": [
    "## Which publication is the the most popular one? "
   ]
  },
  {
   "cell_type": "code",
   "execution_count": 4,
   "metadata": {},
   "outputs": [
    {
     "data": {
      "text/plain": [
       "<AxesSubplot:>"
      ]
     },
     "execution_count": 4,
     "metadata": {},
     "output_type": "execute_result"
    },
    {
     "data": {
      "image/png": "[encoded data removed]",
      "text/plain": [
       "<Figure size 432x288 with 1 Axes>"
      ]
     },
     "metadata": {},
     "output_type": "display_data"
    }
   ],
   "source": [
    "medium_datasci['publication'].value_counts().head(10).sort_values().plot(kind = \"barh\")"
   ]
  },
  {
   "cell_type": "markdown",
   "metadata": {},
   "source": [
    "# Who has the most posts?"
   ]
  },
  {
   "cell_type": "code",
   "execution_count": 5,
   "metadata": {},
   "outputs": [
    {
     "data": {
      "text/plain": [
       "Yves Mulkers            487\n",
       "Synced                  328\n",
       "DEEP AERO DRONES        279\n",
       "AI Hawk                 245\n",
       "Peter Marshall          209\n",
       "Ilexa Yardley           162\n",
       "Alibaba Cloud           160\n",
       "Corsair's Publishing    156\n",
       "Jae Duk Seo             150\n",
       "C Gavilanes             142\n",
       "Name: author, dtype: int64"
      ]
     },
     "execution_count": 5,
     "metadata": {},
     "output_type": "execute_result"
    }
   ],
   "source": [
    "medium_datasci['author'].value_counts().head(10)"
   ]
  },
  {
   "cell_type": "markdown",
   "metadata": {},
   "source": [
    "## What is the distribution of claps? "
   ]
  },
  {
   "cell_type": "code",
   "execution_count": 6,
   "metadata": {},
   "outputs": [
    {
     "data": {
      "text/plain": [
       "<AxesSubplot:ylabel='Frequency'>"
      ]
     },
     "execution_count": 6,
     "metadata": {},
     "output_type": "execute_result"
    },
    {
     "data": {
      "image/png": "[encoded data removed]",
      "text/plain": [
       "<Figure size 432x288 with 1 Axes>"
      ]
     },
     "metadata": {},
     "output_type": "display_data"
    }
   ],
   "source": [
    "bins = np.arange(medium_datasci['claps'].min(), medium_datasci['claps'].max(), 100)\n",
    "medium_datasci['claps'].plot(kind=\"hist\", logx=True, bins=bins)"
   ]
  },
  {
   "cell_type": "markdown",
   "metadata": {},
   "source": [
    "## What is the tag about?"
   ]
  },
  {
   "cell_type": "code",
   "execution_count": 7,
   "metadata": {},
   "outputs": [
    {
     "data": {
      "text/html": [
       "<div>\n",
       "<style scoped>\n",
       "    .dataframe tbody tr th:only-of-type {\n",
       "        vertical-align: middle;\n",
       "    }\n",
       "\n",
       "    .dataframe tbody tr th {\n",
       "        vertical-align: top;\n",
       "    }\n",
       "\n",
       "    .dataframe thead th {\n",
       "        text-align: right;\n",
       "    }\n",
       "</style>\n",
       "<table border=\"1\" class=\"dataframe\">\n",
       "  <thead>\n",
       "    <tr style=\"text-align: right;\">\n",
       "      <th></th>\n",
       "      <th>tag_ai</th>\n",
       "      <th>tag_artificial_intelligence</th>\n",
       "      <th>tag_big_data</th>\n",
       "      <th>tag_data</th>\n",
       "      <th>tag_data_science</th>\n",
       "      <th>tag_data_visualization</th>\n",
       "      <th>tag_deep_learning</th>\n",
       "      <th>tag_machine_learning</th>\n",
       "    </tr>\n",
       "  </thead>\n",
       "  <tbody>\n",
       "    <tr>\n",
       "      <th>0</th>\n",
       "      <td>1</td>\n",
       "      <td>0</td>\n",
       "      <td>0</td>\n",
       "      <td>0</td>\n",
       "      <td>0</td>\n",
       "      <td>0</td>\n",
       "      <td>0</td>\n",
       "      <td>0</td>\n",
       "    </tr>\n",
       "    <tr>\n",
       "      <th>1</th>\n",
       "      <td>1</td>\n",
       "      <td>0</td>\n",
       "      <td>0</td>\n",
       "      <td>0</td>\n",
       "      <td>0</td>\n",
       "      <td>0</td>\n",
       "      <td>0</td>\n",
       "      <td>0</td>\n",
       "    </tr>\n",
       "    <tr>\n",
       "      <th>2</th>\n",
       "      <td>1</td>\n",
       "      <td>0</td>\n",
       "      <td>0</td>\n",
       "      <td>0</td>\n",
       "      <td>0</td>\n",
       "      <td>0</td>\n",
       "      <td>0</td>\n",
       "      <td>0</td>\n",
       "    </tr>\n",
       "    <tr>\n",
       "      <th>3</th>\n",
       "      <td>1</td>\n",
       "      <td>0</td>\n",
       "      <td>0</td>\n",
       "      <td>0</td>\n",
       "      <td>0</td>\n",
       "      <td>0</td>\n",
       "      <td>0</td>\n",
       "      <td>0</td>\n",
       "    </tr>\n",
       "    <tr>\n",
       "      <th>4</th>\n",
       "      <td>1</td>\n",
       "      <td>0</td>\n",
       "      <td>0</td>\n",
       "      <td>0</td>\n",
       "      <td>0</td>\n",
       "      <td>0</td>\n",
       "      <td>0</td>\n",
       "      <td>0</td>\n",
       "    </tr>\n",
       "  </tbody>\n",
       "</table>\n",
       "</div>"
      ],
      "text/plain": [
       "   tag_ai  tag_artificial_intelligence  tag_big_data  tag_data  \\\n",
       "0       1                            0             0         0   \n",
       "1       1                            0             0         0   \n",
       "2       1                            0             0         0   \n",
       "3       1                            0             0         0   \n",
       "4       1                            0             0         0   \n",
       "\n",
       "   tag_data_science  tag_data_visualization  tag_deep_learning  \\\n",
       "0                 0                       0                  0   \n",
       "1                 0                       0                  0   \n",
       "2                 0                       0                  0   \n",
       "3                 0                       0                  0   \n",
       "4                 0                       0                  0   \n",
       "\n",
       "   tag_machine_learning  \n",
       "0                     0  \n",
       "1                     0  \n",
       "2                     0  \n",
       "3                     0  \n",
       "4                     0  "
      ]
     },
     "execution_count": 7,
     "metadata": {},
     "output_type": "execute_result"
    }
   ],
   "source": [
    "medium_datasci.filter(like=\"tag\").head() # select columns contain tag"
   ]
  },
  {
   "cell_type": "markdown",
   "metadata": {},
   "source": [
    "### Which tag is the most popular?"
   ]
  },
  {
   "cell_type": "code",
   "execution_count": 8,
   "metadata": {},
   "outputs": [
    {
     "data": {
      "text/plain": [
       "<AxesSubplot:>"
      ]
     },
     "execution_count": 8,
     "metadata": {},
     "output_type": "execute_result"
    },
    {
     "data": {
      "image/png": "[encoded data removed]",
      "text/plain": [
       "<Figure size 432x288 with 1 Axes>"
      ]
     },
     "metadata": {},
     "output_type": "display_data"
    }
   ],
   "source": [
    "medium_datasci.filter(like=\"tag\").sum().sort_values().plot(kind='barh')"
   ]
  },
  {
   "cell_type": "markdown",
   "metadata": {},
   "source": [
    "## Tranformation"
   ]
  },
  {
   "cell_type": "code",
   "execution_count": 9,
   "metadata": {},
   "outputs": [
    {
     "data": {
      "text/html": [
       "<div>\n",
       "<style scoped>\n",
       "    .dataframe tbody tr th:only-of-type {\n",
       "        vertical-align: middle;\n",
       "    }\n",
       "\n",
       "    .dataframe tbody tr th {\n",
       "        vertical-align: top;\n",
       "    }\n",
       "\n",
       "    .dataframe thead th {\n",
       "        text-align: right;\n",
       "    }\n",
       "</style>\n",
       "<table border=\"1\" class=\"dataframe\">\n",
       "  <thead>\n",
       "    <tr style=\"text-align: right;\">\n",
       "      <th></th>\n",
       "      <th>title</th>\n",
       "      <th>subtitle</th>\n",
       "      <th>image</th>\n",
       "      <th>author</th>\n",
       "      <th>publication</th>\n",
       "      <th>year</th>\n",
       "      <th>month</th>\n",
       "      <th>day</th>\n",
       "      <th>reading_time</th>\n",
       "      <th>claps</th>\n",
       "      <th>url</th>\n",
       "      <th>author_url</th>\n",
       "      <th>tag</th>\n",
       "      <th>value</th>\n",
       "    </tr>\n",
       "  </thead>\n",
       "  <tbody>\n",
       "    <tr>\n",
       "      <th>0</th>\n",
       "      <td>online animation: mixamo vs norah ai</td>\n",
       "      <td>Online animations tools provide game designers...</td>\n",
       "      <td>1</td>\n",
       "      <td>Emma Laurent</td>\n",
       "      <td>NaN</td>\n",
       "      <td>2017</td>\n",
       "      <td>8</td>\n",
       "      <td>1</td>\n",
       "      <td>5</td>\n",
       "      <td>12.0</td>\n",
       "      <td>https://medium.com/@laurentemma/online-animati...</td>\n",
       "      <td>https://medium.com/@laurentemma</td>\n",
       "      <td>tag_ai</td>\n",
       "      <td>1</td>\n",
       "    </tr>\n",
       "    <tr>\n",
       "      <th>1</th>\n",
       "      <td>a.i. ?</td>\n",
       "      <td>NaN</td>\n",
       "      <td>0</td>\n",
       "      <td>Sanparith Marukatat</td>\n",
       "      <td>NaN</td>\n",
       "      <td>2017</td>\n",
       "      <td>8</td>\n",
       "      <td>1</td>\n",
       "      <td>2</td>\n",
       "      <td>11.0</td>\n",
       "      <td>https://medium.com/@sanparithmarukatat/a-i-%E0...</td>\n",
       "      <td>https://medium.com/@sanparithmarukatat</td>\n",
       "      <td>tag_ai</td>\n",
       "      <td>1</td>\n",
       "    </tr>\n",
       "    <tr>\n",
       "      <th>2</th>\n",
       "      <td>futures of ai, friendly ai?</td>\n",
       "      <td>From Physics of the Future: How Science Will S...</td>\n",
       "      <td>1</td>\n",
       "      <td>Z</td>\n",
       "      <td>NaN</td>\n",
       "      <td>2017</td>\n",
       "      <td>8</td>\n",
       "      <td>1</td>\n",
       "      <td>3</td>\n",
       "      <td>1.0</td>\n",
       "      <td>https://medium.com/@otherside914/futures-of-ai...</td>\n",
       "      <td>https://medium.com/@otherside914</td>\n",
       "      <td>tag_ai</td>\n",
       "      <td>1</td>\n",
       "    </tr>\n",
       "    <tr>\n",
       "      <th>3</th>\n",
       "      <td>the value generated through ai led mindfulness</td>\n",
       "      <td>A true product co-created by the Millennials</td>\n",
       "      <td>1</td>\n",
       "      <td>Emiko Sawaguchi</td>\n",
       "      <td>MILLENNIALSTIMES</td>\n",
       "      <td>2017</td>\n",
       "      <td>8</td>\n",
       "      <td>1</td>\n",
       "      <td>5</td>\n",
       "      <td>4.0</td>\n",
       "      <td>https://millennials-times.com/creativeflower-e...</td>\n",
       "      <td>https://millennials-times.com/@emikosawaguchi</td>\n",
       "      <td>tag_ai</td>\n",
       "      <td>1</td>\n",
       "    </tr>\n",
       "    <tr>\n",
       "      <th>4</th>\n",
       "      <td>os melhores links de julhocmeras vintage, goog...</td>\n",
       "      <td>mas pera a?</td>\n",
       "      <td>1</td>\n",
       "      <td>Giovani Ferreira</td>\n",
       "      <td>NEW ORDER</td>\n",
       "      <td>2017</td>\n",
       "      <td>8</td>\n",
       "      <td>1</td>\n",
       "      <td>3</td>\n",
       "      <td>56.0</td>\n",
       "      <td>https://medium.com/neworder/os-melhores-links-...</td>\n",
       "      <td>https://medium.com/@gferreira</td>\n",
       "      <td>tag_ai</td>\n",
       "      <td>1</td>\n",
       "    </tr>\n",
       "  </tbody>\n",
       "</table>\n",
       "</div>"
      ],
      "text/plain": [
       "                                               title  \\\n",
       "0               online animation: mixamo vs norah ai   \n",
       "1                                             a.i. ?   \n",
       "2                        futures of ai, friendly ai?   \n",
       "3     the value generated through ai led mindfulness   \n",
       "4  os melhores links de julhocmeras vintage, goog...   \n",
       "\n",
       "                                            subtitle  image  \\\n",
       "0  Online animations tools provide game designers...      1   \n",
       "1                                                NaN      0   \n",
       "2  From Physics of the Future: How Science Will S...      1   \n",
       "3       A true product co-created by the Millennials      1   \n",
       "4                                        mas pera a?      1   \n",
       "\n",
       "                author       publication  year  month  day  reading_time  \\\n",
       "0         Emma Laurent               NaN  2017      8    1             5   \n",
       "1  Sanparith Marukatat               NaN  2017      8    1             2   \n",
       "2                    Z               NaN  2017      8    1             3   \n",
       "3      Emiko Sawaguchi  MILLENNIALSTIMES  2017      8    1             5   \n",
       "4     Giovani Ferreira         NEW ORDER  2017      8    1             3   \n",
       "\n",
       "   claps                                                url  \\\n",
       "0   12.0  https://medium.com/@laurentemma/online-animati...   \n",
       "1   11.0  https://medium.com/@sanparithmarukatat/a-i-%E0...   \n",
       "2    1.0  https://medium.com/@otherside914/futures-of-ai...   \n",
       "3    4.0  https://millennials-times.com/creativeflower-e...   \n",
       "4   56.0  https://medium.com/neworder/os-melhores-links-...   \n",
       "\n",
       "                                      author_url     tag  value  \n",
       "0                https://medium.com/@laurentemma  tag_ai      1  \n",
       "1         https://medium.com/@sanparithmarukatat  tag_ai      1  \n",
       "2               https://medium.com/@otherside914  tag_ai      1  \n",
       "3  https://millennials-times.com/@emikosawaguchi  tag_ai      1  \n",
       "4                  https://medium.com/@gferreira  tag_ai      1  "
      ]
     },
     "execution_count": 9,
     "metadata": {},
     "output_type": "execute_result"
    }
   ],
   "source": [
    "medium_melt = medium_datasci.melt(\n",
    "    id_vars=medium_datasci.drop(medium_datasci.filter(like=\"tag\").columns.to_list(), axis=1),\n",
    "    var_name= \"tag\").\\\n",
    "    query(\"value == 1\")\n",
    "\n",
    "medium_melt.head()"
   ]
  },
  {
   "cell_type": "code",
   "execution_count": 10,
   "metadata": {},
   "outputs": [
    {
     "data": {
      "text/plain": [
       "tag_artificial_intelligence    29580\n",
       "tag_machine_learning           25175\n",
       "tag_data_science               15424\n",
       "tag_ai                         13763\n",
       "tag_data                        9420\n",
       "tag_big_data                    8686\n",
       "tag_deep_learning               6612\n",
       "tag_data_visualization          4334\n",
       "Name: tag, dtype: int64"
      ]
     },
     "execution_count": 10,
     "metadata": {},
     "output_type": "execute_result"
    }
   ],
   "source": [
    "medium_melt['tag'].value_counts()"
   ]
  },
  {
   "cell_type": "markdown",
   "metadata": {},
   "source": [
    "### Which tag has the most claps?"
   ]
  },
  {
   "cell_type": "code",
   "execution_count": 11,
   "metadata": {},
   "outputs": [
    {
     "data": {
      "text/plain": [
       "<AxesSubplot:ylabel='tag'>"
      ]
     },
     "execution_count": 11,
     "metadata": {},
     "output_type": "execute_result"
    },
    {
     "data": {
      "image/png": "[encoded data removed]",
      "text/plain": [
       "<Figure size 432x288 with 1 Axes>"
      ]
     },
     "metadata": {},
     "output_type": "display_data"
    }
   ],
   "source": [
    "medium_melt.groupby('tag')['claps'].median().sort_values().plot(kind=\"barh\")"
   ]
  },
  {
   "cell_type": "markdown",
   "metadata": {},
   "source": [
    "### How about the reading times?"
   ]
  },
  {
   "cell_type": "code",
   "execution_count": 12,
   "metadata": {},
   "outputs": [
    {
     "data": {
      "text/plain": [
       "Text(0.5, 0, 'Reading times')"
      ]
     },
     "execution_count": 12,
     "metadata": {},
     "output_type": "execute_result"
    },
    {
     "data": {
      "image/png": "[encoded data removed]",
      "text/plain": [
       "<Figure size 432x288 with 1 Axes>"
      ]
     },
     "metadata": {},
     "output_type": "display_data"
    }
   ],
   "source": [
    "# Ifelse\n",
    "reading_time_simplified = np.where(medium_datasci['reading_time'] < 10, medium_datasci['reading_time'], 10)\n",
    "# Create bins\n",
    "bins = np.arange(reading_time_simplified.min(), reading_time_simplified.max(), .5)\n",
    "# Plot\n",
    "pd.Series(np.where(medium_datasci['reading_time'] < 10, medium_datasci['reading_time'], 10)).plot(kind=\"hist\", bins=bins)\n",
    "plt.title(\"Distribution of reading times\")\n",
    "plt.xlabel(\"Reading times\")"
   ]
  },
  {
   "cell_type": "markdown",
   "metadata": {},
   "source": [
    "# Text Mining"
   ]
  },
  {
   "cell_type": "code",
   "execution_count": 13,
   "metadata": {},
   "outputs": [],
   "source": [
    "import spacy\n",
    "import en_core_web_sm\n",
    "nlp = en_core_web_sm.load()"
   ]
  },
  {
   "cell_type": "code",
   "execution_count": 14,
   "metadata": {},
   "outputs": [],
   "source": [
    "# example of using SpaCy to tokenize a simple string\n",
    "\n",
    "def tokenize(sent):\n",
    "    doc = nlp.tokenizer(sent)\n",
    "    return [token.text for token in doc]"
   ]
  },
  {
   "cell_type": "code",
   "execution_count": 15,
   "metadata": {},
   "outputs": [],
   "source": [
    "words_tokenize = medium_datasci['title'].astype(str).apply(tokenize).apply(pd.Series)\n",
    "unnest_words_tokenize = words_tokenize.stack().reset_index(level=0).rename(columns={\"level_0\":\"post_id\", 0:\"word\"})"
   ]
  },
  {
   "cell_type": "code",
   "execution_count": 16,
   "metadata": {},
   "outputs": [],
   "source": [
    "stop_words = pd.DataFrame(nltk.corpus.stopwords.words('english')).rename(columns={0:\"word\"})\n",
    "medium_words_pre = pd.merge(medium_datasci.reset_index().rename(columns={\"index\":\"post_id\"}), unnest_words_tokenize)\n",
    "medium_words = pd.merge(medium_words_pre, stop_words, how='left', indicator=True)"
   ]
  },
  {
   "cell_type": "code",
   "execution_count": 17,
   "metadata": {},
   "outputs": [],
   "source": [
    "medium_words = medium_words[medium_words['_merge'] == \"left_only\"].drop('_merge', axis = 1)"
   ]
  },
  {
   "cell_type": "code",
   "execution_count": 18,
   "metadata": {},
   "outputs": [],
   "source": [
    "medium_words = medium_words[(medium_words['word'].str.contains('[a-zA-Z]')) & (~medium_words['word'].isin(['nan', 'part', 'de']))]"
   ]
  },
  {
   "cell_type": "code",
   "execution_count": 19,
   "metadata": {},
   "outputs": [
    {
     "data": {
      "text/plain": [
       "Text(0.5, 0, 'frequency')"
      ]
     },
     "execution_count": 19,
     "metadata": {},
     "output_type": "execute_result"
    },
    {
     "data": {
      "image/png": "[encoded data removed]",
      "text/plain": [
       "<Figure size 432x288 with 1 Axes>"
      ]
     },
     "metadata": {},
     "output_type": "display_data"
    }
   ],
   "source": [
    "medium_words['word'].value_counts().head(20).sort_values().plot(kind='barh')\n",
    "plt.title(\"Common words in Medium post titles\")\n",
    "plt.xlabel(\"frequency\")"
   ]
  },
  {
   "cell_type": "markdown",
   "metadata": {},
   "source": [
    "*To be continued..*"
   ]
  }
 ],
 "metadata": {
  "kernelspec": {
   "display_name": "Python 3",
   "language": "python",
   "name": "python3"
  },
  "language_info": {
   "codemirror_mode": {
    "name": "ipython",
    "version": 3
   },
   "file_extension": ".py",
   "mimetype": "text/x-python",
   "name": "python",
   "nbconvert_exporter": "python",
   "pygments_lexer": "ipython3",
   "version": "3.7.7"
  }
 },
 "nbformat": 4,
 "nbformat_minor": 4
}
